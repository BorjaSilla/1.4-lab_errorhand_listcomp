{
 "cells": [
  {
   "cell_type": "markdown",
   "id": "576731f7",
   "metadata": {},
   "source": [
    "**Example:**\n",
    "\n",
    "eggs = (1,3,8,3,2)\n",
    "\n",
    "my_listComprehension = [1/egg for egg in eggs]\n",
    "\n",
    "print(my_listComprehension)\n"
   ]
  },
  {
   "cell_type": "markdown",
   "id": "cf2623ae",
   "metadata": {},
   "source": [
    "# Insert here the module/library import statements "
   ]
  },
  {
   "cell_type": "code",
   "execution_count": null,
   "id": "630d7e4d",
   "metadata": {},
   "outputs": [],
   "source": []
  },
  {
   "cell_type": "markdown",
   "id": "59d96563",
   "metadata": {},
   "source": [
    "\n",
    "# Calculate the square number of the first 20 numbers. Use square as the name of the list.\n",
    "Remember to use list comprehensions and to print your results"
   ]
  },
  {
   "cell_type": "code",
   "execution_count": 1,
   "id": "ebfddec2",
   "metadata": {},
   "outputs": [
    {
     "data": {
      "text/plain": [
       "[1,\n",
       " 4,\n",
       " 9,\n",
       " 16,\n",
       " 25,\n",
       " 36,\n",
       " 49,\n",
       " 64,\n",
       " 81,\n",
       " 100,\n",
       " 121,\n",
       " 144,\n",
       " 169,\n",
       " 196,\n",
       " 225,\n",
       " 256,\n",
       " 289,\n",
       " 324,\n",
       " 361,\n",
       " 400]"
      ]
     },
     "execution_count": 1,
     "metadata": {},
     "output_type": "execute_result"
    }
   ],
   "source": [
    "square = [i**2 for i in range(1, 21)]\n",
    "\n",
    "square"
   ]
  },
  {
   "cell_type": "markdown",
   "id": "b421e0cb",
   "metadata": {},
   "source": [
    "# Calculate the square root of the first 100 numbers. Use sqrt as the name of the list.\n",
    "You will probably need to install math library with pip and import it in this file.\n",
    "\n",
    "Remember to use list comprehensions and to print your results\n"
   ]
  },
  {
   "cell_type": "code",
   "execution_count": 2,
   "id": "c047115a",
   "metadata": {},
   "outputs": [
    {
     "data": {
      "text/plain": [
       "[1.0,\n",
       " 1.4142135623730951,\n",
       " 1.7320508075688772,\n",
       " 2.0,\n",
       " 2.23606797749979,\n",
       " 2.449489742783178,\n",
       " 2.6457513110645907,\n",
       " 2.8284271247461903,\n",
       " 3.0,\n",
       " 3.1622776601683795,\n",
       " 3.3166247903554,\n",
       " 3.4641016151377544,\n",
       " 3.605551275463989,\n",
       " 3.7416573867739413,\n",
       " 3.872983346207417,\n",
       " 4.0,\n",
       " 4.123105625617661,\n",
       " 4.242640687119285,\n",
       " 4.358898943540674,\n",
       " 4.47213595499958,\n",
       " 4.58257569495584,\n",
       " 4.69041575982343,\n",
       " 4.795831523312719,\n",
       " 4.898979485566356,\n",
       " 5.0,\n",
       " 5.0990195135927845,\n",
       " 5.196152422706632,\n",
       " 5.291502622129181,\n",
       " 5.385164807134504,\n",
       " 5.477225575051661,\n",
       " 5.5677643628300215,\n",
       " 5.656854249492381,\n",
       " 5.744562646538029,\n",
       " 5.830951894845301,\n",
       " 5.916079783099616,\n",
       " 6.0,\n",
       " 6.082762530298219,\n",
       " 6.164414002968976,\n",
       " 6.244997998398398,\n",
       " 6.324555320336759,\n",
       " 6.4031242374328485,\n",
       " 6.48074069840786,\n",
       " 6.557438524302,\n",
       " 6.6332495807108,\n",
       " 6.708203932499369,\n",
       " 6.782329983125268,\n",
       " 6.855654600401044,\n",
       " 6.928203230275509,\n",
       " 7.0,\n",
       " 7.0710678118654755,\n",
       " 7.14142842854285,\n",
       " 7.211102550927978,\n",
       " 7.280109889280518,\n",
       " 7.3484692283495345,\n",
       " 7.416198487095663,\n",
       " 7.483314773547883,\n",
       " 7.54983443527075,\n",
       " 7.615773105863909,\n",
       " 7.681145747868608,\n",
       " 7.745966692414834,\n",
       " 7.810249675906654,\n",
       " 7.874007874011811,\n",
       " 7.937253933193772,\n",
       " 8.0,\n",
       " 8.06225774829855,\n",
       " 8.12403840463596,\n",
       " 8.18535277187245,\n",
       " 8.246211251235321,\n",
       " 8.306623862918075,\n",
       " 8.366600265340756,\n",
       " 8.426149773176359,\n",
       " 8.48528137423857,\n",
       " 8.54400374531753,\n",
       " 8.602325267042627,\n",
       " 8.660254037844387,\n",
       " 8.717797887081348,\n",
       " 8.774964387392123,\n",
       " 8.831760866327848,\n",
       " 8.888194417315589,\n",
       " 8.94427190999916,\n",
       " 9.0,\n",
       " 9.055385138137417,\n",
       " 9.1104335791443,\n",
       " 9.16515138991168,\n",
       " 9.219544457292887,\n",
       " 9.273618495495704,\n",
       " 9.327379053088816,\n",
       " 9.38083151964686,\n",
       " 9.433981132056603,\n",
       " 9.486832980505138,\n",
       " 9.539392014169456,\n",
       " 9.591663046625438,\n",
       " 9.643650760992955,\n",
       " 9.695359714832659,\n",
       " 9.746794344808963,\n",
       " 9.797958971132712,\n",
       " 9.848857801796104,\n",
       " 9.899494936611665,\n",
       " 9.9498743710662,\n",
       " 10.0]"
      ]
     },
     "execution_count": 2,
     "metadata": {},
     "output_type": "execute_result"
    }
   ],
   "source": [
    "sqrt = [i**0.5 for i in range(1, 101)]\n",
    "\n",
    "sqrt"
   ]
  },
  {
   "cell_type": "markdown",
   "id": "f4bfca8d",
   "metadata": {},
   "source": [
    "\n",
    "# Create this list [-10,-9,-8,-7,-6,-5,-4,-3,-2,-1,0]. Use my_list as the name of the list.\n",
    "Remember to use list comprehensions and to print your results"
   ]
  },
  {
   "cell_type": "code",
   "execution_count": 3,
   "id": "e23d87ea",
   "metadata": {},
   "outputs": [
    {
     "data": {
      "text/plain": [
       "[-10, -9, -8, -7, -6, -5, -4, -3, -2, -1, 0]"
      ]
     },
     "execution_count": 3,
     "metadata": {},
     "output_type": "execute_result"
    }
   ],
   "source": [
    "my_list = [i for i in range(-10, 1)]\n",
    "\n",
    "my_list"
   ]
  },
  {
   "cell_type": "markdown",
   "id": "62592d9c",
   "metadata": {},
   "source": [
    "\n",
    "# Find the odd numbers from 1-100. Use odds as the name of the list. \n",
    "Remember to use list comprehensions and to print your results"
   ]
  },
  {
   "cell_type": "code",
   "execution_count": 4,
   "id": "8a38b472",
   "metadata": {},
   "outputs": [
    {
     "data": {
      "text/plain": [
       "[1,\n",
       " 3,\n",
       " 5,\n",
       " 7,\n",
       " 9,\n",
       " 11,\n",
       " 13,\n",
       " 15,\n",
       " 17,\n",
       " 19,\n",
       " 21,\n",
       " 23,\n",
       " 25,\n",
       " 27,\n",
       " 29,\n",
       " 31,\n",
       " 33,\n",
       " 35,\n",
       " 37,\n",
       " 39,\n",
       " 41,\n",
       " 43,\n",
       " 45,\n",
       " 47,\n",
       " 49,\n",
       " 51,\n",
       " 53,\n",
       " 55,\n",
       " 57,\n",
       " 59,\n",
       " 61,\n",
       " 63,\n",
       " 65,\n",
       " 67,\n",
       " 69,\n",
       " 71,\n",
       " 73,\n",
       " 75,\n",
       " 77,\n",
       " 79,\n",
       " 81,\n",
       " 83,\n",
       " 85,\n",
       " 87,\n",
       " 89,\n",
       " 91,\n",
       " 93,\n",
       " 95,\n",
       " 97,\n",
       " 99]"
      ]
     },
     "execution_count": 4,
     "metadata": {},
     "output_type": "execute_result"
    }
   ],
   "source": [
    "odds = [i for i in range(1,101) if i%2 != 0]\n",
    "\n",
    "odds"
   ]
  },
  {
   "cell_type": "markdown",
   "id": "d8b74c2a",
   "metadata": {},
   "source": [
    "# Find all of the numbers from 1-1000 that are divisible by 7. Use divisible_by_seven as the name of the list.\n",
    "Remember to use list comprehensions and to print your results"
   ]
  },
  {
   "cell_type": "code",
   "execution_count": 5,
   "id": "6a9cfb8c",
   "metadata": {},
   "outputs": [
    {
     "data": {
      "text/plain": [
       "[7,\n",
       " 14,\n",
       " 21,\n",
       " 28,\n",
       " 35,\n",
       " 42,\n",
       " 49,\n",
       " 56,\n",
       " 63,\n",
       " 70,\n",
       " 77,\n",
       " 84,\n",
       " 91,\n",
       " 98,\n",
       " 105,\n",
       " 112,\n",
       " 119,\n",
       " 126,\n",
       " 133,\n",
       " 140,\n",
       " 147,\n",
       " 154,\n",
       " 161,\n",
       " 168,\n",
       " 175,\n",
       " 182,\n",
       " 189,\n",
       " 196,\n",
       " 203,\n",
       " 210,\n",
       " 217,\n",
       " 224,\n",
       " 231,\n",
       " 238,\n",
       " 245,\n",
       " 252,\n",
       " 259,\n",
       " 266,\n",
       " 273,\n",
       " 280,\n",
       " 287,\n",
       " 294,\n",
       " 301,\n",
       " 308,\n",
       " 315,\n",
       " 322,\n",
       " 329,\n",
       " 336,\n",
       " 343,\n",
       " 350,\n",
       " 357,\n",
       " 364,\n",
       " 371,\n",
       " 378,\n",
       " 385,\n",
       " 392,\n",
       " 399,\n",
       " 406,\n",
       " 413,\n",
       " 420,\n",
       " 427,\n",
       " 434,\n",
       " 441,\n",
       " 448,\n",
       " 455,\n",
       " 462,\n",
       " 469,\n",
       " 476,\n",
       " 483,\n",
       " 490,\n",
       " 497,\n",
       " 504,\n",
       " 511,\n",
       " 518,\n",
       " 525,\n",
       " 532,\n",
       " 539,\n",
       " 546,\n",
       " 553,\n",
       " 560,\n",
       " 567,\n",
       " 574,\n",
       " 581,\n",
       " 588,\n",
       " 595,\n",
       " 602,\n",
       " 609,\n",
       " 616,\n",
       " 623,\n",
       " 630,\n",
       " 637,\n",
       " 644,\n",
       " 651,\n",
       " 658,\n",
       " 665,\n",
       " 672,\n",
       " 679,\n",
       " 686,\n",
       " 693,\n",
       " 700,\n",
       " 707,\n",
       " 714,\n",
       " 721,\n",
       " 728,\n",
       " 735,\n",
       " 742,\n",
       " 749,\n",
       " 756,\n",
       " 763,\n",
       " 770,\n",
       " 777,\n",
       " 784,\n",
       " 791,\n",
       " 798,\n",
       " 805,\n",
       " 812,\n",
       " 819,\n",
       " 826,\n",
       " 833,\n",
       " 840,\n",
       " 847,\n",
       " 854,\n",
       " 861,\n",
       " 868,\n",
       " 875,\n",
       " 882,\n",
       " 889,\n",
       " 896,\n",
       " 903,\n",
       " 910,\n",
       " 917,\n",
       " 924,\n",
       " 931,\n",
       " 938,\n",
       " 945,\n",
       " 952,\n",
       " 959,\n",
       " 966,\n",
       " 973,\n",
       " 980,\n",
       " 987,\n",
       " 994]"
      ]
     },
     "execution_count": 5,
     "metadata": {},
     "output_type": "execute_result"
    }
   ],
   "source": [
    "divisible_by_seven = [i for i in range(1, 1001) if i%7 == 0]\n",
    "\n",
    "divisible_by_seven"
   ]
  },
  {
   "cell_type": "markdown",
   "id": "6e6f21e0",
   "metadata": {},
   "source": [
    "# Remove all of the vowels in a string. Hint: make a list of the non-vowels. Use non_vowels as the name of the list.\n",
    "Remember to use list comprehensions and to print your results"
   ]
  },
  {
   "cell_type": "code",
   "execution_count": 6,
   "id": "43b38bd3",
   "metadata": {},
   "outputs": [],
   "source": [
    "# You can use the following test string but feel free to modify at your convenience\n",
    "\n",
    "teststring = 'This is just a very, very, simple string, we simply remove all the vowels!'"
   ]
  },
  {
   "cell_type": "code",
   "execution_count": 7,
   "id": "d5fc7426",
   "metadata": {
    "scrolled": true
   },
   "outputs": [
    {
     "data": {
      "text/plain": [
       "'Ths s jst  vry, vry, smpl strng, w smply rmv ll th vwls!'"
      ]
     },
     "execution_count": 7,
     "metadata": {},
     "output_type": "execute_result"
    }
   ],
   "source": [
    "vowels = 'aeiou'\n",
    "\n",
    "non_vowels = ''.join(i for i in teststring if i not in vowels)\n",
    "            \n",
    "non_vowels"
   ]
  },
  {
   "cell_type": "markdown",
   "id": "277d491e",
   "metadata": {},
   "source": [
    "# Find the capital letters (and not white space) in the sentence 'The Quick Brown Fox Jumped Over The Lazy Dog'. \n",
    "- **Use capital_letters as the name of the list.**\n",
    "\n",
    "Remember to use list comprehensions and to print your results"
   ]
  },
  {
   "cell_type": "code",
   "execution_count": 8,
   "id": "3a43399c",
   "metadata": {},
   "outputs": [
    {
     "name": "stdout",
     "output_type": "stream",
     "text": [
      "['T', 'Q', 'B', 'F', 'J', 'O', 'T', 'L', 'D']\n"
     ]
    }
   ],
   "source": [
    "sentence = 'The Quick Brown Fox Jumped Over The Lazy Dog'\n",
    "\n",
    "capital_letters = [i for i in sentence if i.upper()== i and i != ' ']\n",
    "\n",
    "print(capital_letters)"
   ]
  },
  {
   "cell_type": "markdown",
   "id": "c2603719",
   "metadata": {},
   "source": [
    "# Find all the consonants in the sentence 'The quick brown fox jumped over the lazy dog'.\n",
    " - **Use consonants as the name of the list.**\n",
    " \n",
    "Remember to use list comprehensions and to print your results.\n"
   ]
  },
  {
   "cell_type": "code",
   "execution_count": 9,
   "id": "3ddb68df",
   "metadata": {},
   "outputs": [
    {
     "name": "stdout",
     "output_type": "stream",
     "text": [
      "['T', 'h', 'Q', 'c', 'k', 'B', 'r', 'w', 'n', 'F', 'x', 'J', 'm', 'p', 'd', 'O', 'v', 'r', 'T', 'h', 'L', 'z', 'y', 'D', 'g']\n"
     ]
    }
   ],
   "source": [
    "vowels = 'aeiou'\n",
    "\n",
    "consonants = [i for i in sentence if i not in vowels and i != ' ']\n",
    "\n",
    "print(consonants)"
   ]
  },
  {
   "cell_type": "markdown",
   "id": "0f9c4004",
   "metadata": {},
   "source": [
    "# Find the folders you have in your ironhack local repo. Use files as name of the list.  \n",
    "\n",
    "**Hint: You will probably need to import os library and some of its modules. You will need to make some online research.**\n",
    "\n",
    "Remember to use list comprehensions and to print your results."
   ]
  },
  {
   "cell_type": "code",
   "execution_count": 10,
   "id": "22bb13eb",
   "metadata": {},
   "outputs": [
    {
     "data": {
      "text/plain": [
       "['.DS_Store', 'Example', '1.4-lab_errorhand_listcomp', '1.3-lab_bags_of_words']"
      ]
     },
     "execution_count": 10,
     "metadata": {},
     "output_type": "execute_result"
    }
   ],
   "source": [
    "import os\n",
    "\n",
    "# Specify the directory path you want to search\n",
    "directory_path = '/Users/borch/Desktop/BOOTCAMP'\n",
    "\n",
    "# Use os.listdir() to get a list of all items (files and folders) in the directory\n",
    "items = os.listdir(directory_path)\n",
    "\n",
    "items"
   ]
  },
  {
   "cell_type": "markdown",
   "id": "2cdaa518",
   "metadata": {},
   "source": [
    "# Create 4 lists of 10 random numbers between 0 and 100 each. Use random_lists as the name of the list. \n",
    "**Hint: You will probably need to import random module**\n",
    "\n",
    "Remember to use list comprehensions and to print your results"
   ]
  },
  {
   "cell_type": "code",
   "execution_count": 11,
   "id": "e6535415",
   "metadata": {},
   "outputs": [
    {
     "data": {
      "text/plain": [
       "[[75, 64, 24, 43, 14, 34, 71, 10, 52, 21],\n",
       " [51, 11, 27, 66, 93, 89, 99, 91, 71, 33],\n",
       " [4, 32, 85, 15, 49, 30, 39, 70, 49, 50],\n",
       " [48, 73, 11, 93, 56, 77, 36, 40, 98, 88]]"
      ]
     },
     "execution_count": 11,
     "metadata": {},
     "output_type": "execute_result"
    }
   ],
   "source": [
    "import random\n",
    "\n",
    "random_lists = []\n",
    "\n",
    "for i in range(1, 5):\n",
    "    \n",
    "    random_lists.append(list(random.randint(1,100) for i in range(1, 11)))\n",
    "    \n",
    "random_lists"
   ]
  },
  {
   "cell_type": "markdown",
   "id": "b76ea171",
   "metadata": {},
   "source": [
    "# Flatten the following list of lists. Use flatten_list as the name of the output.\n",
    "\n",
    "Remember to use list comprehensions and to print your results\n"
   ]
  },
  {
   "cell_type": "code",
   "execution_count": 12,
   "id": "b3afebb7",
   "metadata": {},
   "outputs": [],
   "source": [
    "list_of_lists = [[1,2,3],[4,5,6],[7,8,9]]"
   ]
  },
  {
   "cell_type": "code",
   "execution_count": 13,
   "id": "b6bcef37",
   "metadata": {},
   "outputs": [
    {
     "data": {
      "text/plain": [
       "[1, 2, 3, 4, 5, 6, 7, 8, 9]"
      ]
     },
     "execution_count": 13,
     "metadata": {},
     "output_type": "execute_result"
    }
   ],
   "source": [
    "flatten_list = []\n",
    "\n",
    "for i in list_of_lists:\n",
    "    for i in i:\n",
    "        flatten_list.append(i)\n",
    "        \n",
    "flatten_list"
   ]
  },
  {
   "cell_type": "code",
   "execution_count": 14,
   "id": "ff1d26a5",
   "metadata": {},
   "outputs": [
    {
     "data": {
      "text/plain": [
       "[1, 2, 3, 4, 5, 6, 7, 8, 9]"
      ]
     },
     "execution_count": 14,
     "metadata": {},
     "output_type": "execute_result"
    }
   ],
   "source": [
    "# one liner\n",
    "\n",
    "flatten_list2 = [item for sublist in list_of_lists for item in sublist]\n",
    "\n",
    "flatten_list2"
   ]
  },
  {
   "cell_type": "markdown",
   "id": "53c86611",
   "metadata": {},
   "source": [
    "\n",
    "# Convert the numbers of the following nested list to floats. Use floats as the name of the list. \n",
    "\n",
    "Remember to use list comprehensions and to print your results."
   ]
  },
  {
   "cell_type": "code",
   "execution_count": 15,
   "id": "7087f44e",
   "metadata": {},
   "outputs": [],
   "source": [
    "list_of_lists = [['40', '20', '10', '30'], ['20', '20', '20', '20', '20', '30', '20'], \\\n",
    "['30', '20', '30', '50', '10', '30', '20', '20', '20'], ['100', '100'], ['100', '100', '100', '100', '100'], \\\n",
    "['100', '100', '100', '100']]"
   ]
  },
  {
   "cell_type": "code",
   "execution_count": 16,
   "id": "7fd1f593",
   "metadata": {},
   "outputs": [
    {
     "name": "stdout",
     "output_type": "stream",
     "text": [
      "[40, 20, 10, 30, 20, 20, 20, 20, 20, 30, 20, 30, 20, 30, 50, 10, 30, 20, 20, 20, 100, 100, 100, 100, 100, 100, 100, 100, 100, 100, 100]\n"
     ]
    }
   ],
   "source": [
    "floats = [int(item) for sublist in list_of_lists for item in sublist]\n",
    "\n",
    "print(floats)"
   ]
  },
  {
   "cell_type": "markdown",
   "id": "62272da6",
   "metadata": {},
   "source": [
    "# Handle the exception thrown by the code below by using try and except blocks. \n"
   ]
  },
  {
   "cell_type": "code",
   "execution_count": 18,
   "id": "b5980ab4",
   "metadata": {
    "scrolled": true
   },
   "outputs": [
    {
     "ename": "SyntaxError",
     "evalue": "Missing parentheses in call to 'print'. Did you mean print(...)? (3439384179.py, line 2)",
     "output_type": "error",
     "traceback": [
      "\u001b[0;36m  Cell \u001b[0;32mIn[18], line 2\u001b[0;36m\u001b[0m\n\u001b[0;31m    print i**2\u001b[0m\n\u001b[0m    ^\u001b[0m\n\u001b[0;31mSyntaxError\u001b[0m\u001b[0;31m:\u001b[0m Missing parentheses in call to 'print'. Did you mean print(...)?\n"
     ]
    }
   ],
   "source": [
    "for i in ['a','b','c']:\n",
    "    print i**2"
   ]
  },
  {
   "cell_type": "markdown",
   "id": "39deb841",
   "metadata": {},
   "source": [
    "# NO SE PUEDE MANEJAR 👹\n",
    "- No se pueden manejar los errores: `SyntaxError`"
   ]
  },
  {
   "cell_type": "markdown",
   "id": "bda76246",
   "metadata": {},
   "source": [
    "# Handle the exception thrown by the code below by using try and except blocks. \n",
    "\n",
    "Then use a finally block to print 'All Done.'\n",
    "\n",
    "Check in provided resources the type of error you may use. \n"
   ]
  },
  {
   "cell_type": "code",
   "execution_count": 19,
   "id": "441acd1c",
   "metadata": {},
   "outputs": [
    {
     "ename": "ZeroDivisionError",
     "evalue": "division by zero",
     "output_type": "error",
     "traceback": [
      "\u001b[0;31m---------------------------------------------------------------------------\u001b[0m",
      "\u001b[0;31mZeroDivisionError\u001b[0m                         Traceback (most recent call last)",
      "Cell \u001b[0;32mIn[19], line 4\u001b[0m\n\u001b[1;32m      1\u001b[0m x \u001b[38;5;241m=\u001b[39m \u001b[38;5;241m5\u001b[39m\n\u001b[1;32m      2\u001b[0m y \u001b[38;5;241m=\u001b[39m \u001b[38;5;241m0\u001b[39m\n\u001b[0;32m----> 4\u001b[0m z \u001b[38;5;241m=\u001b[39m x\u001b[38;5;241m/\u001b[39my\n",
      "\u001b[0;31mZeroDivisionError\u001b[0m: division by zero"
     ]
    }
   ],
   "source": [
    "x = 5\n",
    "y = 0\n",
    "\n",
    "z = x/y"
   ]
  },
  {
   "cell_type": "code",
   "execution_count": 20,
   "id": "976fec9f",
   "metadata": {},
   "outputs": [
    {
     "name": "stdout",
     "output_type": "stream",
     "text": [
      "Pssst pajaro! Que no se puede dividir por 0 alegre\n"
     ]
    }
   ],
   "source": [
    "try:\n",
    "    x = 5\n",
    "    y = 0\n",
    "\n",
    "    z = x/y\n",
    "except ZeroDivisionError:\n",
    "    print(\"Pssst pajaro! Que no se puede dividir por 0 alegre\")"
   ]
  },
  {
   "cell_type": "markdown",
   "id": "85ea78c5",
   "metadata": {},
   "source": [
    "# Handle the exception thrown by the code below by using try and except blocks. \n",
    "\n",
    "Check in provided resources the type of error you may use. \n"
   ]
  },
  {
   "cell_type": "code",
   "execution_count": 21,
   "id": "783a8224",
   "metadata": {},
   "outputs": [
    {
     "ename": "IndexError",
     "evalue": "list index out of range",
     "output_type": "error",
     "traceback": [
      "\u001b[0;31m---------------------------------------------------------------------------\u001b[0m",
      "\u001b[0;31mIndexError\u001b[0m                                Traceback (most recent call last)",
      "Cell \u001b[0;32mIn[21], line 2\u001b[0m\n\u001b[1;32m      1\u001b[0m abc\u001b[38;5;241m=\u001b[39m[\u001b[38;5;241m10\u001b[39m,\u001b[38;5;241m20\u001b[39m,\u001b[38;5;241m20\u001b[39m]\n\u001b[0;32m----> 2\u001b[0m \u001b[38;5;28mprint\u001b[39m(abc[\u001b[38;5;241m3\u001b[39m])\n",
      "\u001b[0;31mIndexError\u001b[0m: list index out of range"
     ]
    }
   ],
   "source": [
    "abc=[10,20,20]\n",
    "print(abc[3])"
   ]
  },
  {
   "cell_type": "code",
   "execution_count": 22,
   "id": "cfcf15f0",
   "metadata": {},
   "outputs": [
    {
     "name": "stdout",
     "output_type": "stream",
     "text": [
      "Amigo, que la lista tiene index hasta 2, no se puede printear la nada... o si?\n"
     ]
    }
   ],
   "source": [
    "try:\n",
    "    abc=[10,20,20]\n",
    "    print(abc[3])\n",
    "    \n",
    "except IndexError:\n",
    "    print(\"Amigo, que la lista tiene index hasta 2, no se puede printear la nada... o si?\")\n",
    "    "
   ]
  },
  {
   "cell_type": "markdown",
   "id": "10223640",
   "metadata": {},
   "source": [
    "# Handle at least two kind of different exceptions when dividing a couple of numbers provided by the user. \n",
    "\n",
    "**Hint: take a look on python input function.**\n",
    "\n",
    "Check in provided resources the type of error you may use. "
   ]
  },
  {
   "cell_type": "code",
   "execution_count": 24,
   "id": "3c1f141b",
   "metadata": {},
   "outputs": [
    {
     "name": "stdout",
     "output_type": "stream",
     "text": [
      "Enter the first number: 0\n",
      "Enter the second number: 0\n",
      "Can't divide by zero my dude\n"
     ]
    }
   ],
   "source": [
    "try:\n",
    "    num1 = float(input(\"Enter the first number: \"))\n",
    "    num2 = float(input(\"Enter the second number: \"))\n",
    "    result = num1/num2\n",
    "    print(f\"The result of the division of {num1}/{num2} numbers is {result}\")\n",
    "    \n",
    "except ValueError: # No introducir un numero en el input raisea un ValueError\n",
    "    print(\"You did not enter a number\")\n",
    "    \n",
    "except ZeroDivisionError: # Dividir entre 0 raisea un error\n",
    "    print(\"Can't divide by zero my dude\")\n",
    "    \n",
    "    "
   ]
  },
  {
   "cell_type": "markdown",
   "id": "5d712a55",
   "metadata": {},
   "source": [
    "# Handle the exception thrown by the code below by using try and except blocks. \n",
    "\n",
    "Check in provided resources the type of error you may use. "
   ]
  },
  {
   "cell_type": "code",
   "execution_count": 25,
   "id": "b73f824c",
   "metadata": {
    "scrolled": true
   },
   "outputs": [
    {
     "ename": "FileNotFoundError",
     "evalue": "[Errno 2] No such file or directory: 'testfile'",
     "output_type": "error",
     "traceback": [
      "\u001b[0;31m---------------------------------------------------------------------------\u001b[0m",
      "\u001b[0;31mFileNotFoundError\u001b[0m                         Traceback (most recent call last)",
      "Cell \u001b[0;32mIn[25], line 1\u001b[0m\n\u001b[0;32m----> 1\u001b[0m f \u001b[38;5;241m=\u001b[39m \u001b[38;5;28mopen\u001b[39m(\u001b[38;5;124m'\u001b[39m\u001b[38;5;124mtestfile\u001b[39m\u001b[38;5;124m'\u001b[39m,\u001b[38;5;124m'\u001b[39m\u001b[38;5;124mr\u001b[39m\u001b[38;5;124m'\u001b[39m)\n\u001b[1;32m      2\u001b[0m f\u001b[38;5;241m.\u001b[39mwrite(\u001b[38;5;124m'\u001b[39m\u001b[38;5;124mTest write this\u001b[39m\u001b[38;5;124m'\u001b[39m)\n",
      "File \u001b[0;32m~/anaconda3/lib/python3.11/site-packages/IPython/core/interactiveshell.py:284\u001b[0m, in \u001b[0;36m_modified_open\u001b[0;34m(file, *args, **kwargs)\u001b[0m\n\u001b[1;32m    277\u001b[0m \u001b[38;5;28;01mif\u001b[39;00m file \u001b[38;5;129;01min\u001b[39;00m {\u001b[38;5;241m0\u001b[39m, \u001b[38;5;241m1\u001b[39m, \u001b[38;5;241m2\u001b[39m}:\n\u001b[1;32m    278\u001b[0m     \u001b[38;5;28;01mraise\u001b[39;00m \u001b[38;5;167;01mValueError\u001b[39;00m(\n\u001b[1;32m    279\u001b[0m         \u001b[38;5;124mf\u001b[39m\u001b[38;5;124m\"\u001b[39m\u001b[38;5;124mIPython won\u001b[39m\u001b[38;5;124m'\u001b[39m\u001b[38;5;124mt let you open fd=\u001b[39m\u001b[38;5;132;01m{\u001b[39;00mfile\u001b[38;5;132;01m}\u001b[39;00m\u001b[38;5;124m by default \u001b[39m\u001b[38;5;124m\"\u001b[39m\n\u001b[1;32m    280\u001b[0m         \u001b[38;5;124m\"\u001b[39m\u001b[38;5;124mas it is likely to crash IPython. If you know what you are doing, \u001b[39m\u001b[38;5;124m\"\u001b[39m\n\u001b[1;32m    281\u001b[0m         \u001b[38;5;124m\"\u001b[39m\u001b[38;5;124myou can use builtins\u001b[39m\u001b[38;5;124m'\u001b[39m\u001b[38;5;124m open.\u001b[39m\u001b[38;5;124m\"\u001b[39m\n\u001b[1;32m    282\u001b[0m     )\n\u001b[0;32m--> 284\u001b[0m \u001b[38;5;28;01mreturn\u001b[39;00m io_open(file, \u001b[38;5;241m*\u001b[39margs, \u001b[38;5;241m*\u001b[39m\u001b[38;5;241m*\u001b[39mkwargs)\n",
      "\u001b[0;31mFileNotFoundError\u001b[0m: [Errno 2] No such file or directory: 'testfile'"
     ]
    }
   ],
   "source": [
    "f = open('testfile','r')\n",
    "f.write('Test write this')"
   ]
  },
  {
   "cell_type": "code",
   "execution_count": 26,
   "id": "5a1cb361",
   "metadata": {},
   "outputs": [
    {
     "name": "stdout",
     "output_type": "stream",
     "text": [
      "There is no such file or dir my man\n"
     ]
    }
   ],
   "source": [
    "try:\n",
    "    f = open('testfile','r')\n",
    "    f.write('Test write this')\n",
    "    \n",
    "except FileNotFoundError:\n",
    "    print(\"There is no such file or dir my man\")"
   ]
  },
  {
   "cell_type": "markdown",
   "id": "a028ccb8",
   "metadata": {},
   "source": [
    "# Handle the exceptions that can be thrown by the code below using try and except blocks. \n",
    "\n",
    "**Hint: the file could not exist and the data could not be convertable to int**"
   ]
  },
  {
   "cell_type": "code",
   "execution_count": 27,
   "id": "5f639ab1",
   "metadata": {
    "scrolled": true
   },
   "outputs": [
    {
     "ename": "IndentationError",
     "evalue": "unexpected indent (4187890856.py, line 2)",
     "output_type": "error",
     "traceback": [
      "\u001b[0;36m  Cell \u001b[0;32mIn[27], line 2\u001b[0;36m\u001b[0m\n\u001b[0;31m    line = f.readline()\u001b[0m\n\u001b[0m    ^\u001b[0m\n\u001b[0;31mIndentationError\u001b[0m\u001b[0;31m:\u001b[0m unexpected indent\n"
     ]
    }
   ],
   "source": [
    "fp = open('myfile.txt')\n",
    "    line = f.readline()\n",
    "    i = int(s.strip())"
   ]
  },
  {
   "cell_type": "markdown",
   "id": "c21b908c",
   "metadata": {},
   "source": [
    "# NO SE PUEDE MANEJAR 👹\n",
    "- No se pueden manejar los errores: `IndentationError`\n"
   ]
  },
  {
   "cell_type": "markdown",
   "id": "d695245b",
   "metadata": {},
   "source": [
    "# The following function can only run on a Linux system. \n",
    "The assert in this function will throw an exception if you call it on an operating system other than Linux.\n",
    "\n",
    "Handle this exception using **try and except** blocks.\n",
    "\n",
    "You will probably need to import sys "
   ]
  },
  {
   "cell_type": "code",
   "execution_count": 28,
   "id": "3f043ef6",
   "metadata": {},
   "outputs": [
    {
     "ename": "NameError",
     "evalue": "name 'sys' is not defined",
     "output_type": "error",
     "traceback": [
      "\u001b[0;31m---------------------------------------------------------------------------\u001b[0m",
      "\u001b[0;31mNameError\u001b[0m                                 Traceback (most recent call last)",
      "Cell \u001b[0;32mIn[28], line 4\u001b[0m\n\u001b[1;32m      2\u001b[0m     \u001b[38;5;28;01massert\u001b[39;00m (\u001b[38;5;124m'\u001b[39m\u001b[38;5;124mlinux\u001b[39m\u001b[38;5;124m'\u001b[39m \u001b[38;5;129;01min\u001b[39;00m sys\u001b[38;5;241m.\u001b[39mplatform), \u001b[38;5;124m\"\u001b[39m\u001b[38;5;124mFunction can only run on Linux systems.\u001b[39m\u001b[38;5;124m\"\u001b[39m\n\u001b[1;32m      3\u001b[0m     \u001b[38;5;28mprint\u001b[39m(\u001b[38;5;124m'\u001b[39m\u001b[38;5;124mDoing something.\u001b[39m\u001b[38;5;124m'\u001b[39m)\n\u001b[0;32m----> 4\u001b[0m linux_interaction()\n",
      "Cell \u001b[0;32mIn[28], line 2\u001b[0m, in \u001b[0;36mlinux_interaction\u001b[0;34m()\u001b[0m\n\u001b[1;32m      1\u001b[0m \u001b[38;5;28;01mdef\u001b[39;00m \u001b[38;5;21mlinux_interaction\u001b[39m():\n\u001b[0;32m----> 2\u001b[0m     \u001b[38;5;28;01massert\u001b[39;00m (\u001b[38;5;124m'\u001b[39m\u001b[38;5;124mlinux\u001b[39m\u001b[38;5;124m'\u001b[39m \u001b[38;5;129;01min\u001b[39;00m sys\u001b[38;5;241m.\u001b[39mplatform), \u001b[38;5;124m\"\u001b[39m\u001b[38;5;124mFunction can only run on Linux systems.\u001b[39m\u001b[38;5;124m\"\u001b[39m\n\u001b[1;32m      3\u001b[0m     \u001b[38;5;28mprint\u001b[39m(\u001b[38;5;124m'\u001b[39m\u001b[38;5;124mDoing something.\u001b[39m\u001b[38;5;124m'\u001b[39m)\n",
      "\u001b[0;31mNameError\u001b[0m: name 'sys' is not defined"
     ]
    }
   ],
   "source": [
    "def linux_interaction():\n",
    "    assert ('linux' in sys.platform), \"Function can only run on Linux systems.\"\n",
    "    print('Doing something.')\n",
    "linux_interaction()"
   ]
  },
  {
   "cell_type": "code",
   "execution_count": 29,
   "id": "1643bbed",
   "metadata": {},
   "outputs": [
    {
     "name": "stdout",
     "output_type": "stream",
     "text": [
      "no estas en linux makina 🫥\n"
     ]
    }
   ],
   "source": [
    "import sys\n",
    "\n",
    "try:\n",
    "    linux_interaction()\n",
    "    \n",
    "except AssertionError:\n",
    "    print(\"no estas en linux makina 🫥\")\n",
    "    "
   ]
  },
  {
   "cell_type": "markdown",
   "id": "9310a60b",
   "metadata": {},
   "source": [
    "\n",
    "# Bonus Questions:"
   ]
  },
  {
   "cell_type": "markdown",
   "id": "2f06d3fd",
   "metadata": {},
   "source": [
    "You will need to make some research on dictionary comprehension to solve the following questions"
   ]
  },
  {
   "cell_type": "markdown",
   "id": "3108ff54",
   "metadata": {},
   "source": [
    "## Write a function that asks for an integer and prints the square of it. \n",
    "\n",
    "**Hint: we need to continually keep checking until we get an integer.**\n",
    "\n",
    "Use a while loop with a try,except, else block to account for incorrect inputs."
   ]
  },
  {
   "cell_type": "code",
   "execution_count": 31,
   "id": "94c2e76e",
   "metadata": {},
   "outputs": [
    {
     "name": "stdout",
     "output_type": "stream",
     "text": [
      "Enter an integer: 90.0\n",
      "Invalid input. Please enter an integer.\n",
      "Enter an integer: d\n",
      "Invalid input. Please enter an integer.\n",
      "Enter an integer: 90\n",
      "You entered: 90\n"
     ]
    }
   ],
   "source": [
    "input_1 = None  # Initialize input_1 to None or any non-integer value\n",
    "\n",
    "while True:\n",
    "    try:\n",
    "        user_input = input(\"Enter an integer: \")\n",
    "        input_1 = int(user_input)  # Attempt to convert user input to an integer\n",
    "        break  # Exit the loop when successful\n",
    "    except ValueError:\n",
    "        print(\"Invalid input. Please enter an integer.\")\n",
    "\n",
    "# You now have a valid integer in input_1\n",
    "print(\"You entered:\", input_1)"
   ]
  },
  {
   "cell_type": "markdown",
   "id": "7139da39",
   "metadata": {},
   "source": [
    "\n",
    "## Find all of the numbers from 1-1000 that are divisible by any single digit besides 1 (2-9). \n",
    "\n",
    "Use results as the name of the list \n"
   ]
  },
  {
   "cell_type": "code",
   "execution_count": null,
   "id": "90d3aa37",
   "metadata": {},
   "outputs": [],
   "source": []
  },
  {
   "cell_type": "markdown",
   "id": "e4791228",
   "metadata": {},
   "source": [
    "## Define a customised exception to handle not accepted values. \n",
    "\n",
    "You have the following user inputs and the Num_of_sections can not be less than 2.\n",
    "\n",
    "**Hint: Create a class derived from the pre-defined Exception class in Python**"
   ]
  },
  {
   "cell_type": "code",
   "execution_count": null,
   "id": "86fa19bf",
   "metadata": {},
   "outputs": [],
   "source": [
    "Total_Marks = int(input(\"Enter Total Marks Scored: \")) \n",
    "Num_of_Sections = int(input(\"Enter Num of Sections: \"))"
   ]
  },
  {
   "cell_type": "code",
   "execution_count": null,
   "id": "f986d3bb",
   "metadata": {},
   "outputs": [],
   "source": []
  }
 ],
 "metadata": {
  "kernelspec": {
   "display_name": "Python 3 (ipykernel)",
   "language": "python",
   "name": "python3"
  },
  "language_info": {
   "codemirror_mode": {
    "name": "ipython",
    "version": 3
   },
   "file_extension": ".py",
   "mimetype": "text/x-python",
   "name": "python",
   "nbconvert_exporter": "python",
   "pygments_lexer": "ipython3",
   "version": "3.11.4"
  },
  "toc": {
   "base_numbering": 1,
   "nav_menu": {},
   "number_sections": true,
   "sideBar": true,
   "skip_h1_title": false,
   "title_cell": "Table of Contents",
   "title_sidebar": "Contents",
   "toc_cell": false,
   "toc_position": {},
   "toc_section_display": true,
   "toc_window_display": false
  }
 },
 "nbformat": 4,
 "nbformat_minor": 5
}
